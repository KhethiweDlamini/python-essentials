{
  "nbformat": 4,
  "nbformat_minor": 0,
  "metadata": {
    "colab": {
      "provenance": [],
      "toc_visible": true,
      "authorship_tag": "ABX9TyNQqaol6ucYNKEWfVEEYSP9",
      "include_colab_link": true
    },
    "kernelspec": {
      "name": "python3",
      "display_name": "Python 3"
    },
    "language_info": {
      "name": "python"
    }
  },
  "cells": [
    {
      "cell_type": "markdown",
      "metadata": {
        "id": "view-in-github",
        "colab_type": "text"
      },
      "source": [
        "<a href=\"https://colab.research.google.com/github/KhethiweDlamini/python-essentials/blob/main/common_operations%5Cupdate_python.ipynb\" target=\"_parent\"><img src=\"https://colab.research.google.com/assets/colab-badge.svg\" alt=\"Open In Colab\"/></a>"
      ]
    },
    {
      "cell_type": "markdown",
      "source": [
        "#Updating python to the latest version (3.12.0)"
      ],
      "metadata": {
        "id": "D8FrKbSOJ_5c"
      }
    },
    {
      "cell_type": "code",
      "source": [
        "!python --version"
      ],
      "metadata": {
        "colab": {
          "base_uri": "https://localhost:8080/"
        },
        "id": "i2xuJlmpOuld",
        "outputId": "cb419555-82a4-4369-d41b-fe5f6bbf8c2e"
      },
      "execution_count": null,
      "outputs": [
        {
          "output_type": "stream",
          "name": "stdout",
          "text": [
            "Python 3.10.12\n"
          ]
        }
      ]
    },
    {
      "cell_type": "code",
      "source": [
        "!sudo update-alternatives --config python3"
      ],
      "metadata": {
        "colab": {
          "base_uri": "https://localhost:8080/"
        },
        "id": "6ZbSFjloPx9a",
        "outputId": "f3368fb4-ccd8-452c-ecfa-046b91e79bd3"
      },
      "execution_count": null,
      "outputs": [
        {
          "output_type": "stream",
          "name": "stdout",
          "text": [
            "update-alternatives: error: no alternatives for python3\n"
          ]
        }
      ]
    },
    {
      "cell_type": "code",
      "source": [
        "!sudo apt-get update -y\n",
        "!sudo apt-get install python3.12 python3.12-dev python3.12-distutils libpython3.12-dev"
      ],
      "metadata": {
        "colab": {
          "base_uri": "https://localhost:8080/"
        },
        "id": "ApvjMlRmP-aS",
        "outputId": "568f033f-8290-41b5-c281-c1b93fe7aafa"
      },
      "execution_count": null,
      "outputs": [
        {
          "output_type": "stream",
          "name": "stdout",
          "text": [
            "\r0% [Working]\r            \rHit:1 http://archive.ubuntu.com/ubuntu jammy InRelease\n",
            "\r0% [Waiting for headers] [Waiting for headers] [Connected to cloud.r-project.or\r                                                                               \rGet:2 http://security.ubuntu.com/ubuntu jammy-security InRelease [110 kB]\n",
            "\r0% [Waiting for headers] [2 InRelease 20.0 kB/110 kB 18%] [Waiting for headers]\r                                                                               \rGet:3 http://archive.ubuntu.com/ubuntu jammy-updates InRelease [119 kB]\n",
            "\r0% [3 InRelease 14.2 kB/119 kB 12%] [2 InRelease 22.9 kB/110 kB 21%] [Waiting f\r                                                                               \rGet:4 https://cloud.r-project.org/bin/linux/ubuntu jammy-cran40/ InRelease [3,626 B]\n",
            "Hit:5 https://developer.download.nvidia.com/compute/cuda/repos/ubuntu2204/x86_64  InRelease\n",
            "Get:6 http://archive.ubuntu.com/ubuntu jammy-backports InRelease [109 kB]\n",
            "Get:7 https://ppa.launchpadcontent.net/c2d4u.team/c2d4u4.0+/ubuntu jammy InRelease [18.1 kB]\n",
            "Hit:8 https://ppa.launchpadcontent.net/deadsnakes/ppa/ubuntu jammy InRelease\n",
            "Get:9 http://archive.ubuntu.com/ubuntu jammy-updates/restricted amd64 Packages [1,520 kB]\n",
            "Hit:10 https://ppa.launchpadcontent.net/graphics-drivers/ppa/ubuntu jammy InRelease\n",
            "Get:11 http://archive.ubuntu.com/ubuntu jammy-updates/universe amd64 Packages [1,294 kB]\n",
            "Hit:12 https://ppa.launchpadcontent.net/ubuntugis/ppa/ubuntu jammy InRelease\n",
            "Get:13 http://archive.ubuntu.com/ubuntu jammy-updates/main amd64 Packages [1,535 kB]\n",
            "Get:14 https://ppa.launchpadcontent.net/c2d4u.team/c2d4u4.0+/ubuntu jammy/main Sources [2,246 kB]\n",
            "Get:15 https://ppa.launchpadcontent.net/c2d4u.team/c2d4u4.0+/ubuntu jammy/main amd64 Packages [1,153 kB]\n",
            "Fetched 8,107 kB in 2s (3,963 kB/s)\n",
            "Reading package lists... Done\n",
            "Reading package lists... Done\n",
            "Building dependency tree... Done\n",
            "Reading state information... Done\n",
            "The following additional packages will be installed:\n",
            "  libpython3.12 libpython3.12-minimal libpython3.12-stdlib mailcap\n",
            "  mime-support python3.12-lib2to3 python3.12-minimal\n",
            "Suggested packages:\n",
            "  python3.12-venv binfmt-support\n",
            "The following NEW packages will be installed:\n",
            "  libpython3.12 libpython3.12-dev libpython3.12-minimal libpython3.12-stdlib\n",
            "  mailcap mime-support python3.12 python3.12-dev python3.12-distutils\n",
            "  python3.12-lib2to3 python3.12-minimal\n",
            "0 upgraded, 11 newly installed, 0 to remove and 18 not upgraded.\n",
            "Need to get 14.9 MB of archives.\n",
            "After this operation, 62.8 MB of additional disk space will be used.\n",
            "Get:1 http://archive.ubuntu.com/ubuntu jammy/main amd64 mailcap all 3.70+nmu1ubuntu1 [23.8 kB]\n",
            "Get:2 http://archive.ubuntu.com/ubuntu jammy/main amd64 mime-support all 3.66 [3,696 B]\n",
            "Get:3 https://ppa.launchpadcontent.net/deadsnakes/ppa/ubuntu jammy/main amd64 libpython3.12-minimal amd64 3.12.0-1+jammy2 [872 kB]\n",
            "Get:4 https://ppa.launchpadcontent.net/deadsnakes/ppa/ubuntu jammy/main amd64 python3.12-minimal amd64 3.12.0-1+jammy2 [2,506 kB]\n",
            "Get:5 https://ppa.launchpadcontent.net/deadsnakes/ppa/ubuntu jammy/main amd64 libpython3.12-stdlib amd64 3.12.0-1+jammy2 [2,011 kB]\n",
            "Get:6 https://ppa.launchpadcontent.net/deadsnakes/ppa/ubuntu jammy/main amd64 libpython3.12 amd64 3.12.0-1+jammy2 [2,354 kB]\n",
            "Get:7 https://ppa.launchpadcontent.net/deadsnakes/ppa/ubuntu jammy/main amd64 libpython3.12-dev amd64 3.12.0-1+jammy2 [5,690 kB]\n",
            "Get:8 https://ppa.launchpadcontent.net/deadsnakes/ppa/ubuntu jammy/main amd64 python3.12 amd64 3.12.0-1+jammy2 [676 kB]\n",
            "Get:9 https://ppa.launchpadcontent.net/deadsnakes/ppa/ubuntu jammy/main amd64 python3.12-dev amd64 3.12.0-1+jammy2 [498 kB]\n",
            "Get:10 https://ppa.launchpadcontent.net/deadsnakes/ppa/ubuntu jammy/main amd64 python3.12-lib2to3 all 3.12.0-1+jammy2 [127 kB]\n",
            "Get:11 https://ppa.launchpadcontent.net/deadsnakes/ppa/ubuntu jammy/main amd64 python3.12-distutils all 3.12.0~a1-1+jammy1 [182 kB]\n",
            "Fetched 14.9 MB in 2s (7,953 kB/s)\n",
            "debconf: unable to initialize frontend: Dialog\n",
            "debconf: (No usable dialog-like program is installed, so the dialog based frontend cannot be used. at /usr/share/perl5/Debconf/FrontEnd/Dialog.pm line 78, <> line 11.)\n",
            "debconf: falling back to frontend: Readline\n",
            "debconf: unable to initialize frontend: Readline\n",
            "debconf: (This frontend requires a controlling tty.)\n",
            "debconf: falling back to frontend: Teletype\n",
            "dpkg-preconfigure: unable to re-open stdin: \n",
            "Selecting previously unselected package libpython3.12-minimal:amd64.\n",
            "(Reading database ... 120882 files and directories currently installed.)\n",
            "Preparing to unpack .../00-libpython3.12-minimal_3.12.0-1+jammy2_amd64.deb ...\n",
            "Unpacking libpython3.12-minimal:amd64 (3.12.0-1+jammy2) ...\n",
            "Selecting previously unselected package python3.12-minimal.\n",
            "Preparing to unpack .../01-python3.12-minimal_3.12.0-1+jammy2_amd64.deb ...\n",
            "Unpacking python3.12-minimal (3.12.0-1+jammy2) ...\n",
            "Selecting previously unselected package mailcap.\n",
            "Preparing to unpack .../02-mailcap_3.70+nmu1ubuntu1_all.deb ...\n",
            "Unpacking mailcap (3.70+nmu1ubuntu1) ...\n",
            "Selecting previously unselected package mime-support.\n",
            "Preparing to unpack .../03-mime-support_3.66_all.deb ...\n",
            "Unpacking mime-support (3.66) ...\n",
            "Selecting previously unselected package libpython3.12-stdlib:amd64.\n",
            "Preparing to unpack .../04-libpython3.12-stdlib_3.12.0-1+jammy2_amd64.deb ...\n",
            "Unpacking libpython3.12-stdlib:amd64 (3.12.0-1+jammy2) ...\n",
            "Selecting previously unselected package libpython3.12:amd64.\n",
            "Preparing to unpack .../05-libpython3.12_3.12.0-1+jammy2_amd64.deb ...\n",
            "Unpacking libpython3.12:amd64 (3.12.0-1+jammy2) ...\n",
            "Selecting previously unselected package libpython3.12-dev:amd64.\n",
            "Preparing to unpack .../06-libpython3.12-dev_3.12.0-1+jammy2_amd64.deb ...\n",
            "Unpacking libpython3.12-dev:amd64 (3.12.0-1+jammy2) ...\n",
            "Selecting previously unselected package python3.12.\n",
            "Preparing to unpack .../07-python3.12_3.12.0-1+jammy2_amd64.deb ...\n",
            "Unpacking python3.12 (3.12.0-1+jammy2) ...\n",
            "Selecting previously unselected package python3.12-dev.\n",
            "Preparing to unpack .../08-python3.12-dev_3.12.0-1+jammy2_amd64.deb ...\n",
            "Unpacking python3.12-dev (3.12.0-1+jammy2) ...\n",
            "Selecting previously unselected package python3.12-lib2to3.\n",
            "Preparing to unpack .../09-python3.12-lib2to3_3.12.0-1+jammy2_all.deb ...\n",
            "Unpacking python3.12-lib2to3 (3.12.0-1+jammy2) ...\n",
            "Selecting previously unselected package python3.12-distutils.\n",
            "Preparing to unpack .../10-python3.12-distutils_3.12.0~a1-1+jammy1_all.deb ...\n",
            "Unpacking python3.12-distutils (3.12.0~a1-1+jammy1) ...\n",
            "Setting up libpython3.12-minimal:amd64 (3.12.0-1+jammy2) ...\n",
            "Setting up python3.12-lib2to3 (3.12.0-1+jammy2) ...\n",
            "Setting up mailcap (3.70+nmu1ubuntu1) ...\n",
            "Setting up python3.12-minimal (3.12.0-1+jammy2) ...\n",
            "Setting up mime-support (3.66) ...\n",
            "Setting up libpython3.12-stdlib:amd64 (3.12.0-1+jammy2) ...\n",
            "Setting up python3.12-distutils (3.12.0~a1-1+jammy1) ...\n",
            "Setting up python3.12 (3.12.0-1+jammy2) ...\n",
            "Setting up libpython3.12:amd64 (3.12.0-1+jammy2) ...\n",
            "Setting up libpython3.12-dev:amd64 (3.12.0-1+jammy2) ...\n",
            "Setting up python3.12-dev (3.12.0-1+jammy2) ...\n",
            "Processing triggers for man-db (2.10.2-1) ...\n"
          ]
        }
      ]
    },
    {
      "cell_type": "code",
      "source": [
        "!sudo update-alternatives --install /usr/bin/python3 python3 /usr/bin/python3.10 1\n",
        "!sudo update-alternatives --install /usr/bin/python3 python3 /usr/bin/python3.12 2\n"
      ],
      "metadata": {
        "id": "I9E-G_4rQTLS"
      },
      "execution_count": null,
      "outputs": []
    },
    {
      "cell_type": "code",
      "source": [
        "!python3 --version"
      ],
      "metadata": {
        "colab": {
          "base_uri": "https://localhost:8080/"
        },
        "id": "UQlUGxQkQjWG",
        "outputId": "40dae89d-4992-4ee4-afdd-c7a091e08a97"
      },
      "execution_count": null,
      "outputs": [
        {
          "output_type": "stream",
          "name": "stdout",
          "text": [
            "Python 3.12.0\n"
          ]
        }
      ]
    }
  ]
}